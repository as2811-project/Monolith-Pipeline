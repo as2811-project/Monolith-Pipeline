{
 "cells": [
  {
   "cell_type": "code",
   "id": "initial_id",
   "metadata": {
    "collapsed": true,
    "ExecuteTime": {
     "end_time": "2024-11-19T09:26:19.815565Z",
     "start_time": "2024-11-19T09:26:19.810299Z"
    }
   },
   "source": [
    "import pandas as pd\n",
    "from time import sleep \n",
    "import json"
   ],
   "outputs": [],
   "execution_count": 9
  },
  {
   "metadata": {
    "ExecuteTime": {
     "end_time": "2024-11-19T08:14:52.826569Z",
     "start_time": "2024-11-19T08:14:28.989562Z"
    }
   },
   "cell_type": "code",
   "source": "ratings = pd.read_csv('ml-10M100K/ratings.dat', sep='::', engine='python', names=['userId', 'itemId', 'rating', 'timestamp'])",
   "id": "1b21a9fce814e48d",
   "outputs": [],
   "execution_count": 3
  },
  {
   "metadata": {
    "ExecuteTime": {
     "end_time": "2024-11-19T10:41:24.575379Z",
     "start_time": "2024-11-19T10:41:24.543626Z"
    }
   },
   "cell_type": "code",
   "source": "movies = pd.read_csv('ml-10M100K/movies.dat', sep='::', engine='python', names=['movieId', 'title', 'genres'])",
   "id": "f2ecff25a7eeba5a",
   "outputs": [],
   "execution_count": 16
  },
  {
   "metadata": {
    "ExecuteTime": {
     "end_time": "2024-11-19T10:41:48.585063Z",
     "start_time": "2024-11-19T10:41:48.581867Z"
    }
   },
   "cell_type": "code",
   "source": "movies.iloc[120].to_dict()",
   "id": "70ff33a99baf28bc",
   "outputs": [
    {
     "data": {
      "text/plain": [
       "{'movieId': 122, 'title': 'Boomerang (1992)', 'genres': 'Comedy|Romance'}"
      ]
     },
     "execution_count": 18,
     "metadata": {},
     "output_type": "execute_result"
    }
   ],
   "execution_count": 18
  },
  {
   "metadata": {
    "ExecuteTime": {
     "end_time": "2024-11-19T09:26:40.112396Z",
     "start_time": "2024-11-19T09:26:30.081044Z"
    }
   },
   "cell_type": "code",
   "source": [
    "i = 0\n",
    "for i in range(5):\n",
    "    obj = ratings.iloc[i].to_dict()\n",
    "    obj = json.dumps(obj)\n",
    "    print(obj)\n",
    "    sleep(2)\n",
    "    i+=1"
   ],
   "id": "ea8b9a715a124150",
   "outputs": [
    {
     "name": "stdout",
     "output_type": "stream",
     "text": [
      "{\"userId\": 1.0, \"itemId\": 122.0, \"rating\": 5.0, \"timestamp\": 838985046.0}\n",
      "{\"userId\": 1.0, \"itemId\": 185.0, \"rating\": 5.0, \"timestamp\": 838983525.0}\n",
      "{\"userId\": 1.0, \"itemId\": 231.0, \"rating\": 5.0, \"timestamp\": 838983392.0}\n",
      "{\"userId\": 1.0, \"itemId\": 292.0, \"rating\": 5.0, \"timestamp\": 838983421.0}\n",
      "{\"userId\": 1.0, \"itemId\": 316.0, \"rating\": 5.0, \"timestamp\": 838983392.0}\n"
     ]
    }
   ],
   "execution_count": 11
  }
 ],
 "metadata": {
  "kernelspec": {
   "display_name": "Python 3",
   "language": "python",
   "name": "python3"
  },
  "language_info": {
   "codemirror_mode": {
    "name": "ipython",
    "version": 2
   },
   "file_extension": ".py",
   "mimetype": "text/x-python",
   "name": "python",
   "nbconvert_exporter": "python",
   "pygments_lexer": "ipython2",
   "version": "2.7.6"
  }
 },
 "nbformat": 4,
 "nbformat_minor": 5
}
