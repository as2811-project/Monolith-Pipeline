{
 "cells": [
  {
   "cell_type": "code",
   "id": "initial_id",
   "metadata": {
    "collapsed": true,
    "ExecuteTime": {
     "end_time": "2024-11-23T06:22:21.290719Z",
     "start_time": "2024-11-23T06:22:21.285232Z"
    }
   },
   "source": [
    "import pandas as pd\n",
    "from time import sleep \n",
    "import json\n",
    "from json import dumps\n",
    "from kafka import KafkaProducer"
   ],
   "outputs": [],
   "execution_count": 15
  },
  {
   "metadata": {
    "ExecuteTime": {
     "end_time": "2024-11-23T06:08:23.053467Z",
     "start_time": "2024-11-23T06:07:57.759719Z"
    }
   },
   "cell_type": "code",
   "source": "ratings = pd.read_csv('ml-10M100K/ratings.dat', sep='::', engine='python', names=['userId', 'itemId', 'rating', 'timestamp'])",
   "id": "1b21a9fce814e48d",
   "outputs": [],
   "execution_count": 3
  },
  {
   "metadata": {
    "ExecuteTime": {
     "end_time": "2024-11-23T07:40:03.543104Z",
     "start_time": "2024-11-23T07:40:03.337463Z"
    }
   },
   "cell_type": "code",
   "source": "producer = KafkaProducer(bootstrap_servers=[':9092'], value_serializer=lambda v: dumps(v).encode('utf-8'))",
   "id": "48ac350b4660ca14",
   "outputs": [],
   "execution_count": 30
  },
  {
   "metadata": {
    "ExecuteTime": {
     "end_time": "2024-11-23T07:42:03.504051Z",
     "start_time": "2024-11-23T07:41:43.438479Z"
    }
   },
   "cell_type": "code",
   "source": [
    "i = 0\n",
    "for i in range(10):\n",
    "    user_feature_dict = ratings.iloc[i].to_dict()\n",
    "    user_feature_dict = json.dumps(user_feature_dict)\n",
    "    producer.send(\"user_features\",value=user_feature_dict)\n",
    "    sleep(2)\n",
    "    i+=1"
   ],
   "id": "ea8b9a715a124150",
   "outputs": [],
   "execution_count": 32
  }
 ],
 "metadata": {
  "kernelspec": {
   "display_name": "Python 3",
   "language": "python",
   "name": "python3"
  },
  "language_info": {
   "codemirror_mode": {
    "name": "ipython",
    "version": 2
   },
   "file_extension": ".py",
   "mimetype": "text/x-python",
   "name": "python",
   "nbconvert_exporter": "python",
   "pygments_lexer": "ipython2",
   "version": "2.7.6"
  }
 },
 "nbformat": 4,
 "nbformat_minor": 5
}
