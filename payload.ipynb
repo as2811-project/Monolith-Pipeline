{
 "cells": [
  {
   "cell_type": "code",
   "id": "initial_id",
   "metadata": {
    "collapsed": true,
    "ExecuteTime": {
     "end_time": "2024-11-23T06:22:21.290719Z",
     "start_time": "2024-11-23T06:22:21.285232Z"
    }
   },
   "source": [
    "import pandas as pd\n",
    "from time import sleep \n",
    "import json\n",
    "from json import dumps\n",
    "from kafka import KafkaProducer"
   ],
   "outputs": [],
   "execution_count": 15
  },
  {
   "metadata": {
    "ExecuteTime": {
     "end_time": "2024-11-23T06:08:23.053467Z",
     "start_time": "2024-11-23T06:07:57.759719Z"
    }
   },
   "cell_type": "code",
   "source": "ratings = pd.read_csv('ml-10M100K/ratings.dat', sep='::', engine='python', names=['userId', 'itemId', 'rating', 'timestamp'])",
   "id": "1b21a9fce814e48d",
   "outputs": [],
   "execution_count": 3
  },
  {
   "metadata": {
    "ExecuteTime": {
     "end_time": "2024-11-24T23:13:03.406646Z",
     "start_time": "2024-11-24T23:13:03.286118Z"
    }
   },
   "cell_type": "code",
   "source": "producer = KafkaProducer(bootstrap_servers=['localhost:9092'], value_serializer=lambda v: dumps(v).encode('utf-8'))",
   "id": "48ac350b4660ca14",
   "outputs": [],
   "execution_count": 43
  },
  {
   "metadata": {
    "ExecuteTime": {
     "end_time": "2024-11-25T12:07:56.330192Z",
     "start_time": "2024-11-25T12:07:51.850718Z"
    }
   },
   "cell_type": "code",
   "source": [
    "while True:\n",
    "    user_feature_dict = ratings.sample(1).iloc[0].to_dict()\n",
    "    corrected_record = {\n",
    "        \"userId\": int(user_feature_dict[\"userId\"]),\n",
    "        \"itemId\": int(user_feature_dict[\"itemId\"]),\n",
    "        \"rating\": float(user_feature_dict[\"rating\"]),\n",
    "        \"timestamp\": int(user_feature_dict[\"timestamp\"])\n",
    "    }\n",
    "    producer.send(\"user_features\",value=corrected_record)\n",
    "    print(user_feature_dict)\n",
    "    sleep(3)"
   ],
   "id": "ea8b9a715a124150",
   "outputs": [
    {
     "name": "stdout",
     "output_type": "stream",
     "text": [
      "{'userId': 19509.0, 'itemId': 743.0, 'rating': 3.0, 'timestamp': 945041593.0}\n",
      "{'userId': 24239.0, 'itemId': 1057.0, 'rating': 3.0, 'timestamp': 991839817.0}\n"
     ]
    },
    {
     "ename": "KeyboardInterrupt",
     "evalue": "",
     "output_type": "error",
     "traceback": [
      "\u001B[0;31m---------------------------------------------------------------------------\u001B[0m",
      "\u001B[0;31mKeyboardInterrupt\u001B[0m                         Traceback (most recent call last)",
      "Cell \u001B[0;32mIn[66], line 11\u001B[0m\n\u001B[1;32m      9\u001B[0m producer\u001B[38;5;241m.\u001B[39msend(\u001B[38;5;124m\"\u001B[39m\u001B[38;5;124muser_features\u001B[39m\u001B[38;5;124m\"\u001B[39m,value\u001B[38;5;241m=\u001B[39mcorrected_record)\n\u001B[1;32m     10\u001B[0m \u001B[38;5;28mprint\u001B[39m(user_feature_dict)\n\u001B[0;32m---> 11\u001B[0m \u001B[43msleep\u001B[49m\u001B[43m(\u001B[49m\u001B[38;5;241;43m3\u001B[39;49m\u001B[43m)\u001B[49m\n",
      "\u001B[0;31mKeyboardInterrupt\u001B[0m: "
     ]
    }
   ],
   "execution_count": 66
  }
 ],
 "metadata": {
  "kernelspec": {
   "display_name": "Python 3",
   "language": "python",
   "name": "python3"
  },
  "language_info": {
   "codemirror_mode": {
    "name": "ipython",
    "version": 2
   },
   "file_extension": ".py",
   "mimetype": "text/x-python",
   "name": "python",
   "nbconvert_exporter": "python",
   "pygments_lexer": "ipython2",
   "version": "2.7.6"
  }
 },
 "nbformat": 4,
 "nbformat_minor": 5
}
