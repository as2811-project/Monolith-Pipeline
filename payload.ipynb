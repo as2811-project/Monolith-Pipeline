{
 "cells": [
  {
   "cell_type": "code",
   "id": "initial_id",
   "metadata": {
    "collapsed": true,
    "ExecuteTime": {
     "end_time": "2024-11-23T06:22:21.290719Z",
     "start_time": "2024-11-23T06:22:21.285232Z"
    }
   },
   "source": [
    "import pandas as pd\n",
    "from time import sleep \n",
    "import json\n",
    "from json import dumps\n",
    "from kafka import KafkaProducer"
   ],
   "outputs": [],
   "execution_count": 15
  },
  {
   "metadata": {
    "ExecuteTime": {
     "end_time": "2024-11-23T06:08:23.053467Z",
     "start_time": "2024-11-23T06:07:57.759719Z"
    }
   },
   "cell_type": "code",
   "source": "ratings = pd.read_csv('ml-10M100K/ratings.dat', sep='::', engine='python', names=['userId', 'itemId', 'rating', 'timestamp'])",
   "id": "1b21a9fce814e48d",
   "outputs": [],
   "execution_count": 3
  },
  {
   "metadata": {
    "ExecuteTime": {
     "end_time": "2024-11-23T07:40:03.543104Z",
     "start_time": "2024-11-23T07:40:03.337463Z"
    }
   },
   "cell_type": "code",
   "source": "producer = KafkaProducer(bootstrap_servers=[':9092'], value_serializer=lambda v: dumps(v).encode('utf-8'))",
   "id": "48ac350b4660ca14",
   "outputs": [],
   "execution_count": 30
  },
  {
   "metadata": {
    "ExecuteTime": {
     "end_time": "2024-11-23T08:17:50.395927Z",
     "start_time": "2024-11-23T08:17:42.927296Z"
    }
   },
   "cell_type": "code",
   "source": [
    "while True:\n",
    "    user_feature_dict = ratings.sample(1).to_dict(orient='records')\n",
    "    user_feature_dict = json.dumps(user_feature_dict)\n",
    "    producer.send(\"user_features\",value=user_feature_dict)\n",
    "    #print(user_feature_dict)\n",
    "    sleep(2)"
   ],
   "id": "ea8b9a715a124150",
   "outputs": [
    {
     "name": "stdout",
     "output_type": "stream",
     "text": [
      "[{\"userId\": 29192, \"itemId\": 4022, \"rating\": 3.5, \"timestamp\": 1172246938}]\n",
      "[{\"userId\": 28667, \"itemId\": 4226, \"rating\": 3.0, \"timestamp\": 988393115}]\n",
      "[{\"userId\": 8372, \"itemId\": 2356, \"rating\": 1.0, \"timestamp\": 946928422}]\n",
      "[{\"userId\": 2536, \"itemId\": 2542, \"rating\": 4.5, \"timestamp\": 1085515435}]\n"
     ]
    },
    {
     "ename": "KeyboardInterrupt",
     "evalue": "",
     "output_type": "error",
     "traceback": [
      "\u001B[0;31m---------------------------------------------------------------------------\u001B[0m",
      "\u001B[0;31mKeyboardInterrupt\u001B[0m                         Traceback (most recent call last)",
      "Cell \u001B[0;32mIn[35], line 6\u001B[0m\n\u001B[1;32m      4\u001B[0m \u001B[38;5;66;03m#producer.send(\"user_features\",value=user_feature_dict)\u001B[39;00m\n\u001B[1;32m      5\u001B[0m \u001B[38;5;28mprint\u001B[39m(user_feature_dict)\n\u001B[0;32m----> 6\u001B[0m \u001B[43msleep\u001B[49m\u001B[43m(\u001B[49m\u001B[38;5;241;43m2\u001B[39;49m\u001B[43m)\u001B[49m\n",
      "\u001B[0;31mKeyboardInterrupt\u001B[0m: "
     ]
    }
   ],
   "execution_count": 35
  }
 ],
 "metadata": {
  "kernelspec": {
   "display_name": "Python 3",
   "language": "python",
   "name": "python3"
  },
  "language_info": {
   "codemirror_mode": {
    "name": "ipython",
    "version": 2
   },
   "file_extension": ".py",
   "mimetype": "text/x-python",
   "name": "python",
   "nbconvert_exporter": "python",
   "pygments_lexer": "ipython2",
   "version": "2.7.6"
  }
 },
 "nbformat": 4,
 "nbformat_minor": 5
}
