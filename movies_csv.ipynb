{
 "cells": [
  {
   "metadata": {
    "ExecuteTime": {
     "end_time": "2024-11-23T08:31:46.151234Z",
     "start_time": "2024-11-23T08:31:45.793703Z"
    }
   },
   "cell_type": "code",
   "source": "import pandas as pd",
   "id": "893379d015120e73",
   "outputs": [],
   "execution_count": 4
  },
  {
   "metadata": {
    "ExecuteTime": {
     "end_time": "2024-11-23T08:32:39.503779Z",
     "start_time": "2024-11-23T08:32:39.481888Z"
    }
   },
   "cell_type": "code",
   "source": "movies = pd.read_csv('ml-10M100K/movies.dat', sep='::', engine='python', encoding='utf-8', names=['itemId','title','genre'])",
   "id": "c7b19dd489fa062d",
   "outputs": [],
   "execution_count": 7
  },
  {
   "metadata": {},
   "cell_type": "markdown",
   "source": "",
   "id": "de45f74fa9548fbe"
  },
  {
   "metadata": {
    "ExecuteTime": {
     "end_time": "2024-11-23T10:09:15.879102Z",
     "start_time": "2024-11-23T10:09:15.838810Z"
    }
   },
   "cell_type": "code",
   "source": "movies.to_csv('ml-10M100K/movies.csv', index=False, encoding='utf-8')",
   "id": "4a54f3cd91b3162f",
   "outputs": [],
   "execution_count": 10
  }
 ],
 "metadata": {
  "kernelspec": {
   "display_name": "Python 3",
   "language": "python",
   "name": "python3"
  },
  "language_info": {
   "codemirror_mode": {
    "name": "ipython",
    "version": 2
   },
   "file_extension": ".py",
   "mimetype": "text/x-python",
   "name": "python",
   "nbconvert_exporter": "python",
   "pygments_lexer": "ipython2",
   "version": "2.7.6"
  }
 },
 "nbformat": 4,
 "nbformat_minor": 5
}
